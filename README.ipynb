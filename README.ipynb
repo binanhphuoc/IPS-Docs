{
 "cells": [
  {
   "cell_type": "code",
   "execution_count": 21,
   "metadata": {
    "jupyter": {
     "source_hidden": true
    }
   },
   "outputs": [],
   "source": [
    "from sympy import *\n",
    "from sympy.printing.latex import LatexPrinter\n",
    "\n",
    "#get_ipython().profile_dir.startup_dir\n",
    "\n",
    "def disp_latex(expr, **settings):\n",
    "    return LatexPrinter(settings).doprint(expr).replace('$$', '$$\\displaystyle', 1)\n",
    "\n",
    "from sympy.interactive import init_printing\n",
    "init_printing(latex_mode=\"equation\",itex=True,latex_printer=disp_latex)\n",
    "    \n",
    "from IPython.core.interactiveshell import InteractiveShell\n",
    "InteractiveShell.ast_node_interactivity = \"all\""
   ]
  },
  {
   "cell_type": "markdown",
   "metadata": {},
   "source": [
    "# Introduction"
   ]
  },
  {
   "cell_type": "markdown",
   "metadata": {},
   "source": [
    "## In this tutorial, we will learn how to set up a Python Dev Process."
   ]
  },
  {
   "cell_type": "code",
   "execution_count": 22,
   "metadata": {},
   "outputs": [
    {
     "data": {
      "image/png": "[encoded data removed]",
      "text/latex": [
       "$$\\displaystyle\\frac{\\left(x^{4} + x^{2} e^{x} - x^{2} - 2 x e^{x} - 2 x - e^{x}\\right) e^{x}}{\\left(x - 1\\right)^{2} \\left(x + 1\\right)^{2} \\left(e^{x} + 1\\right)}$$"
      ],
      "text/plain": [
       "⎛ 4    2  x    2        x          x⎞  x\n",
       "⎝x  + x ⋅ℯ  - x  - 2⋅x⋅ℯ  - 2⋅x - ℯ ⎠⋅ℯ \n",
       "────────────────────────────────────────\n",
       "              2        2 ⎛ x    ⎞       \n",
       "       (x - 1) ⋅(x + 1) ⋅⎝ℯ  + 1⎠       "
      ]
     },
     "execution_count": 22,
     "metadata": {},
     "output_type": "execute_result"
    }
   ],
   "source": [
    "x = symbols(\"x\")\n",
    "expr = (x**4 + x**2*exp(x) - x**2 - 2*x*exp(x) - 2*x - exp(x))*exp(x)/((x - 1)**2*(x + 1)**2*(exp(x) + 1))\n",
    "expr"
   ]
  },
  {
   "cell_type": "code",
   "execution_count": 23,
   "metadata": {},
   "outputs": [
    {
     "data": {
      "image/png": "[encoded data removed]",
      "text/latex": [
       "$$\\displaystyle\\log{\\left(e^{x} + 1 \\right)} + \\frac{e^{x}}{x^{2} - 1}$$"
      ],
      "text/plain": [
       "                 x  \n",
       "   ⎛ x    ⎞     ℯ   \n",
       "log⎝ℯ  + 1⎠ + ──────\n",
       "               2    \n",
       "              x  - 1"
      ]
     },
     "execution_count": 23,
     "metadata": {},
     "output_type": "execute_result"
    }
   ],
   "source": [
    "integ = Integral(expr, x)\n",
    "integ.doit()"
   ]
  },
  {
   "cell_type": "code",
   "execution_count": 255,
   "metadata": {},
   "outputs": [
    {
     "data": {
      "image/png": "[encoded data removed]",
      "text/latex": [
       "$$\\displaystyle5$$"
      ],
      "text/plain": [
       "5"
      ]
     },
     "execution_count": 255,
     "metadata": {},
     "output_type": "execute_result"
    },
    {
     "data": {
      "image/png": "[encoded data removed]",
      "text/latex": [
       "$$\\displaystyle9$$"
      ],
      "text/plain": [
       "9"
      ]
     },
     "execution_count": 255,
     "metadata": {},
     "output_type": "execute_result"
    }
   ],
   "source": [
    "x = 5\n",
    "a = x+4\n",
    "x\n",
    "a"
   ]
  },
  {
   "cell_type": "code",
   "execution_count": null,
   "metadata": {},
   "outputs": [],
   "source": []
  }
 ],
 "metadata": {
  "kernelspec": {
   "display_name": "Python 3",
   "language": "python",
   "name": "python3"
  },
  "language_info": {
   "codemirror_mode": {
    "name": "ipython",
    "version": 3
   },
   "file_extension": ".py",
   "mimetype": "text/x-python",
   "name": "python",
   "nbconvert_exporter": "python",
   "pygments_lexer": "ipython3",
   "version": "3.6.9"
  }
 },
 "nbformat": 4,
 "nbformat_minor": 4
}
