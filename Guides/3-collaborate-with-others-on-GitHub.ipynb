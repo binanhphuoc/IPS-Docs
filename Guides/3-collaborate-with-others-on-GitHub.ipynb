{
 "cells": [
  {
   "cell_type": "markdown",
   "metadata": {},
   "source": [
    "# Article 3: Share Code with Collaborators on GitHub"
   ]
  },
  {
   "cell_type": "markdown",
   "metadata": {},
   "source": [
    "## Table of Contents\n",
    "\n",
    "[1. Basic Git Commands](#1)<br>\n",
    "&emsp;[1.1. What is Git?](#1.1)<br>\n",
    "&emsp;[1.2. Install Git for MacOS and Windows](#1.2)<br>\n",
    "&emsp;[1.3. Using Git on local Projects](#1.3)<br>\n",
    "&emsp;&emsp;[1.3.1. Initialize a Git repository](#1.3.1)<br>\n",
    "&emsp;&emsp;[1.3.2. Commit changes](#1.3.2)<br>\n",
    "&emsp;&emsp;[1.3.3. Work with branches](#1.3.3)<br>\n",
    "[2. How to Share Code on GitHub?](#2)<br>\n",
    "&emsp;[2.1. What is GitHub?](#2.1)<br>\n",
    "&emsp;[2.2. Create a GitHub repository](#2.2)<br>\n",
    "&emsp;[2.3. Push a local project to a GitHub repository](#2.3)<br>\n",
    "[3. Work on an already-created GitHub repository](#3)<br>\n",
    "&emsp;[3.1. Clone a GitHub repo to a local repo](#3.1)<br>\n",
    "&emsp;[3.2. Create a feature and commit some changes](#3.2)<br>\n",
    "&emsp;[3.3. Push these changes back to GitHub repo](#3.3)<br>\n",
    "&emsp;[3.4. Make a Pull Request](#3.4)<br>\n",
    "&emsp;[3.5. Fetch updates from GitHub repo to local repo](#3.5)<br>\n",
    "[4. Good Practices with Branches](#4)<br>\n",
    "&emsp;[4.1. Production and Development branch](#4.1)<br>\n",
    "&emsp;[4.2. One branch per feature](#4.2)<br>\n",
    "[5. What's Next?](#5)<br>\n",
    "&emsp;[5.1. Understand Django project settings](#5)<br>"
   ]
  },
  {
   "cell_type": "markdown",
   "metadata": {},
   "source": [
    "## THE FIRST HEADER - TEST SERVER"
   ]
  },
  {
   "cell_type": "code",
   "execution_count": 1,
   "metadata": {},
   "outputs": [
    {
     "data": {
      "image/png": "[encoded data removed]",
      "text/latex": [
       "$$\\displaystyle5$$"
      ],
      "text/plain": [
       "5"
      ]
     },
     "execution_count": 1,
     "metadata": {},
     "output_type": "execute_result"
    },
    {
     "data": {
      "image/png": "[encoded data removed]",
      "text/latex": [
       "$$\\displaystyle9$$"
      ],
      "text/plain": [
       "9"
      ]
     },
     "execution_count": 1,
     "metadata": {},
     "output_type": "execute_result"
    }
   ],
   "source": [
    "a = 5\n",
    "x = a + 4\n",
    "a\n",
    "x"
   ]
  },
  {
   "cell_type": "code",
   "execution_count": null,
   "metadata": {},
   "outputs": [],
   "source": []
  }
 ],
 "metadata": {
  "kernelspec": {
   "display_name": "Python 3",
   "language": "python",
   "name": "python3"
  },
  "language_info": {
   "codemirror_mode": {
    "name": "ipython",
    "version": 3
   },
   "file_extension": ".py",
   "mimetype": "text/x-python",
   "name": "python",
   "nbconvert_exporter": "python",
   "pygments_lexer": "ipython3",
   "version": "3.7.0"
  }
 },
 "nbformat": 4,
 "nbformat_minor": 4
}
